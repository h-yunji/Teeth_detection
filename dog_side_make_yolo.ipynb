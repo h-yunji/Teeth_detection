{
 "cells": [
  {
   "cell_type": "code",
   "execution_count": 54,
   "id": "3bae747e-3ae9-416f-9701-1283d94f4979",
   "metadata": {
    "scrolled": true
   },
   "outputs": [],
   "source": [
    "import os\n",
    "import json\n",
    "import glob\n",
    "import shutil\n",
    "\n",
    "# 기본 경로 설정\n",
    "base_path = \"./cat_center/\" \n",
    "json_files = glob.glob(os.path.join(base_path, \"*.json\"))\n",
    "\n",
    "# 저장 경로 설정\n",
    "yolo_json_path = os.path.join(base_path, \"yolo_json\")\n",
    "yolo_image_path = os.path.join(base_path, \"yolo_image\")\n",
    "\n",
    "# 폴더가 없으면 생성\n",
    "os.makedirs(yolo_json_path, exist_ok=True)\n",
    "os.makedirs(yolo_image_path, exist_ok=True)\n",
    "\n",
    "def convert_to_custom_yolo(data, image_width, image_height):\n",
    "    center = None\n",
    "    keypoints = []\n",
    "\n",
    "    for shape in data['shapes']:\n",
    "        if shape['label'] == 'center':\n",
    "            x1, y1 = shape['points'][0]\n",
    "            x2, y2 = shape['points'][1]\n",
    "            center_x = (x1+(x2-x1)/2)/ image_width\n",
    "            center_y = (y1+(y2-y1)/2)/ image_height\n",
    "            width = (x2 - x1) / image_width\n",
    "            height = (y2 - y1) / image_height\n",
    "            center = [center_x, center_y, width, height]\n",
    "        \n",
    "        elif shape['shape_type'] == 'point':\n",
    "            x, y = shape['points'][0]\n",
    "            normalized_x = x / image_width\n",
    "            normalized_y = y / image_height\n",
    "            group_id = shape.get('group_id', 0)  # group_id가 없으면 0으로 설정\n",
    "            \n",
    "            if group_id == 1:\n",
    "                group_id = 0\n",
    "            \n",
    "            keypoints.append((normalized_x, normalized_y, shape['label'], group_id))\n",
    "    \n",
    "    # 키포인트를 라벨 순으로 정렬\n",
    "    keypoints.sort(key=lambda k: int(k[2]))\n",
    "    \n",
    "    # 결과 문자열 생성\n",
    "    result = f\"0 {center[0]} {center[1]} {center[2]} {center[3]}\" # box\n",
    "    for kp in keypoints:\n",
    "        result += f\" {kp[0]} {kp[1]} {kp[3]}\" # point\n",
    "    \n",
    "    return result\n",
    "\n",
    "for json_file in json_files:\n",
    "    with open(json_file) as json_data:\n",
    "        data = json.load(json_data)\n",
    "        filename = os.path.basename(json_file)\n",
    "        image_filename = os.path.splitext(filename)[0] + \".png\"  # JSON 파일명을 기반으로 이미지 파일명 추정\n",
    "        image_width = data.get('imageWidth', 1)  # 이미지 너비가 없을 경우 기본값 1 사용\n",
    "        image_height = data.get('imageHeight', 1)  # 이미지 높이가 없을 경우 기본값 1 사용\n",
    "        \n",
    "        # YOLO 텍스트 파일 저장\n",
    "        yolo_txt_file = os.path.join(yolo_json_path, os.path.splitext(filename)[0] + \".txt\")\n",
    "        yolo_data = convert_to_custom_yolo(data, image_width, image_height)\n",
    "        with open(yolo_txt_file, 'w') as f:\n",
    "            f.write(yolo_data)\n",
    "        \n",
    "        # 이미지 복사\n",
    "        source_image_path = os.path.join(base_path, image_filename)\n",
    "        dest_image_path = os.path.join(yolo_image_path, image_filename)\n",
    "\n",
    "        # 폴더로 이동\n",
    "        if os.path.exists(source_image_path):\n",
    "            shutil.copy(source_image_path, dest_image_path)\n",
    "        else:\n",
    "            print(f\"Warning: Image file not found - {source_image_path}\")\n"
   ]
  },
  {
   "cell_type": "code",
   "execution_count": 50,
   "id": "8f8d632c-a946-4799-b45e-e579d045aa91",
   "metadata": {},
   "outputs": [
    {
     "data": {
      "text/plain": [
       "'TCENTER_002447_011xxxxxxxxxxxx_N_0.json'"
      ]
     },
     "execution_count": 50,
     "metadata": {},
     "output_type": "execute_result"
    }
   ],
   "source": [
    "filename"
   ]
  },
  {
   "cell_type": "code",
   "execution_count": 36,
   "id": "933f19d8-e9ac-4f1d-a1be-e7a7b6a30bbc",
   "metadata": {},
   "outputs": [
    {
     "name": "stdout",
     "output_type": "stream",
     "text": [
      "Working directory: /RnD\n",
      "Base path: ./cat_center/\n",
      "JSON files found: 512\n"
     ]
    }
   ],
   "source": [
    "print(f\"Working directory: {os.getcwd()}\")\n",
    "print(f\"Base path: {base_path}\")\n",
    "print(f\"JSON files found: {len(json_files)}\")"
   ]
  },
  {
   "cell_type": "code",
   "execution_count": 40,
   "id": "404559ea-80f4-4f81-9590-5a506913b658",
   "metadata": {},
   "outputs": [
    {
     "data": {
      "text/plain": [
       "'TCENTER_005255_000xxxxxxxxxxxx_N_2.json'"
      ]
     },
     "execution_count": 40,
     "metadata": {},
     "output_type": "execute_result"
    }
   ],
   "source": [
    "# 기본 경로 설정\n",
    "base_path = \"./cat_center/\" \n",
    "json_files = glob.glob(os.path.join(base_path, \"*.json\"))\n",
    "\n",
    "# 저장 경로 설정\n",
    "yolo_json_path = os.path.join(base_path, \"yolo_json\")\n",
    "yolo_image_path = os.path.join(base_path, \"yolo_image\")\n"
   ]
  },
  {
   "cell_type": "code",
   "execution_count": 5,
   "id": "9289abdc-cf91-4a2c-9a1d-2c1b3f805f13",
   "metadata": {},
   "outputs": [
    {
     "ename": "IsADirectoryError",
     "evalue": "[Errno 21] Is a directory: '/'",
     "output_type": "error",
     "traceback": [
      "\u001b[0;31m---------------------------------------------------------------------------\u001b[0m",
      "\u001b[0;31mIsADirectoryError\u001b[0m                         Traceback (most recent call last)",
      "Cell \u001b[0;32mIn[5], line 12\u001b[0m\n\u001b[1;32m     10\u001b[0m label_sequence \u001b[38;5;241m=\u001b[39m side\n\u001b[1;32m     11\u001b[0m \u001b[38;5;28;01mfor\u001b[39;00m i \u001b[38;5;129;01min\u001b[39;00m json_path:\n\u001b[0;32m---> 12\u001b[0m     \u001b[38;5;28;01mwith\u001b[39;00m \u001b[38;5;28;43mopen\u001b[39;49m\u001b[43m(\u001b[49m\u001b[43mi\u001b[49m\u001b[43m)\u001b[49m \u001b[38;5;28;01mas\u001b[39;00m json_data:\n\u001b[1;32m     13\u001b[0m         data \u001b[38;5;241m=\u001b[39m json\u001b[38;5;241m.\u001b[39mload(json_data)\n\u001b[1;32m     14\u001b[0m         filename \u001b[38;5;241m=\u001b[39m data[\u001b[38;5;124m'\u001b[39m\u001b[38;5;124mimagePath\u001b[39m\u001b[38;5;124m'\u001b[39m]\n",
      "File \u001b[0;32m/opt/conda/lib/python3.10/site-packages/IPython/core/interactiveshell.py:310\u001b[0m, in \u001b[0;36m_modified_open\u001b[0;34m(file, *args, **kwargs)\u001b[0m\n\u001b[1;32m    303\u001b[0m \u001b[38;5;28;01mif\u001b[39;00m file \u001b[38;5;129;01min\u001b[39;00m {\u001b[38;5;241m0\u001b[39m, \u001b[38;5;241m1\u001b[39m, \u001b[38;5;241m2\u001b[39m}:\n\u001b[1;32m    304\u001b[0m     \u001b[38;5;28;01mraise\u001b[39;00m \u001b[38;5;167;01mValueError\u001b[39;00m(\n\u001b[1;32m    305\u001b[0m         \u001b[38;5;124mf\u001b[39m\u001b[38;5;124m\"\u001b[39m\u001b[38;5;124mIPython won\u001b[39m\u001b[38;5;124m'\u001b[39m\u001b[38;5;124mt let you open fd=\u001b[39m\u001b[38;5;132;01m{\u001b[39;00mfile\u001b[38;5;132;01m}\u001b[39;00m\u001b[38;5;124m by default \u001b[39m\u001b[38;5;124m\"\u001b[39m\n\u001b[1;32m    306\u001b[0m         \u001b[38;5;124m\"\u001b[39m\u001b[38;5;124mas it is likely to crash IPython. If you know what you are doing, \u001b[39m\u001b[38;5;124m\"\u001b[39m\n\u001b[1;32m    307\u001b[0m         \u001b[38;5;124m\"\u001b[39m\u001b[38;5;124myou can use builtins\u001b[39m\u001b[38;5;124m'\u001b[39m\u001b[38;5;124m open.\u001b[39m\u001b[38;5;124m\"\u001b[39m\n\u001b[1;32m    308\u001b[0m     )\n\u001b[0;32m--> 310\u001b[0m \u001b[38;5;28;01mreturn\u001b[39;00m \u001b[43mio_open\u001b[49m\u001b[43m(\u001b[49m\u001b[43mfile\u001b[49m\u001b[43m,\u001b[49m\u001b[43m \u001b[49m\u001b[38;5;241;43m*\u001b[39;49m\u001b[43margs\u001b[49m\u001b[43m,\u001b[49m\u001b[43m \u001b[49m\u001b[38;5;241;43m*\u001b[39;49m\u001b[38;5;241;43m*\u001b[39;49m\u001b[43mkwargs\u001b[49m\u001b[43m)\u001b[49m\n",
      "\u001b[0;31mIsADirectoryError\u001b[0m: [Errno 21] Is a directory: '/'"
     ]
    }
   ],
   "source": [
    "import os, json, glob, shutil\n",
    "from tqdm import tqdm\n",
    "\n",
    "# center=[\"101\",\"102\",\"103\",\"104\",\"201\",\"202\",\"203\",\"204\",\"301\",\"302\",\"303\",\"304\",\"401\",\"402\",\"403\",\"404\"]\n",
    "side = [\"U1\",\"U2\",\"U3\",\"U4\",\"U5\",\"U6\",\"U7\",\"U8\",\"D1\",\"D2\",\"D3\",\"D4\",\"D5\",\"D6\",\"D7\",\"D8\",\"D9\"]\n",
    "\n",
    "json_path = \"/RnD/dog_yolo/datasets/train/images/\" # 모든 jason파일 불러오는 것으로 변경\n",
    "save_path = glob.glob(os.path.join(\"/RnD/dog_yolo/datasets/train/images/\", \"*.json\"))\n",
    "save_img = True\n",
    "label_sequence = side\n",
    "for i in json_path:\n",
    "    with open(i) as json_data:\n",
    "        data = json.load(json_data)\n",
    "        filename = data['imagePath']\n",
    "        h, w = data['imageHeight'], data['imageWidth']\n",
    "        \n",
    "        image_path = base_path + filename\n",
    "        annotation_dir_path = os.path.join(save_path, 'labels', save_as)\n",
    "        if os.path.exists(annotation_dir_path)==False:\n",
    "            os.makedirs(annotation_dir_path)\n",
    "        save_anno = os.path.join(yolo_json_path, os.path.splitext(filename)[0] + \".txt\")\n",
    "        \n",
    "        # if save_img:\n",
    "        #     image_dir_path = \"/RnD/dog_yolo/datasets/train/labels/\"\n",
    "        #     if os.path.exists(image_dir_path)==False:\n",
    "        #         os.makedirs(image_dir_path)\n",
    "        #     save_img = image_dir_path+\"/\"+filename\n",
    "        #     shutil.copy(image_path, save_img)\n",
    "        \n",
    "        keypoint_data = {label: (0,0,0) for label in label_sequence}\n",
    "\n",
    "        cx, cy, width, heihgt = 0, 0, 0, 0\n",
    "        for shape in data['shapes']:\n",
    "            label = shape['label']\n",
    "            x, y = shape['points'][0]\n",
    "            if label == 'side' or label == 'dog' or label == 'tooth':\n",
    "                x1, y1 = shape['points'][0]\n",
    "                x2, y2 = shape['points'][1]\n",
    "                width = (x2-x1) / w\n",
    "                height = (y2-y1) / h\n",
    "                cx = (x1+(x2-x1)/2)/w\n",
    "                cy = (y1+(y2-y1)/2)/h\n",
    "            elif label in label_sequence:            \n",
    "                x1 = x / w\n",
    "                y1 = y / h\n",
    "                category = shape['group_id']\n",
    "                keypoint_data[label]=(x1,y1,category)\n",
    "        yolo_annotation_line = f\"{0} {cx} {cy} {width} {height}\"\n",
    "        for label in label_sequence:\n",
    "            x, y, visible = keypoint_data[label]\n",
    "            yolo_annotation_line += f\" {x} {y} {visible}\"\n",
    "\n",
    "        with open(save_anno, 'w') as f:\n",
    "            f.write(yolo_annotation_line + \"\\n\")\n",
    "    "
   ]
  },
  {
   "cell_type": "code",
   "execution_count": 8,
   "id": "4055e3fb-d3a9-4468-8ed1-2fe9797aa4d3",
   "metadata": {},
   "outputs": [
    {
     "name": "stderr",
     "output_type": "stream",
     "text": [
      "Processing JSON files: 100%|██████████| 50/50 [00:00<00:00, 6878.16it/s]"
     ]
    },
    {
     "name": "stdout",
     "output_type": "stream",
     "text": [
      "처리가 완료되었습니다.\n"
     ]
    },
    {
     "name": "stderr",
     "output_type": "stream",
     "text": [
      "\n"
     ]
    }
   ],
   "source": [
    "import os\n",
    "import json\n",
    "import glob\n",
    "import shutil\n",
    "from tqdm import tqdm\n",
    "\n",
    "# 경로 설정\n",
    "base_path = \"/RnD/dog_yolo/datasets/val/\"\n",
    "json_path = os.path.join(base_path, \"images\", \"*.json\")\n",
    "save_path = os.path.join(base_path, \"labels\")\n",
    "\n",
    "# 레이블 시퀀스 설정\n",
    "side = [\"U1\",\"U2\",\"U3\",\"U4\",\"U5\",\"U6\",\"U7\",\"U8\",\"D1\",\"D2\",\"D3\",\"D4\",\"D5\",\"D6\",\"D7\",\"D8\",\"D9\"]\n",
    "label_sequence = side\n",
    "\n",
    "# 저장 경로가 없으면 생성\n",
    "if not os.path.exists(save_path):\n",
    "    os.makedirs(save_path)\n",
    "\n",
    "# JSON 파일 목록 가져오기\n",
    "json_files = glob.glob(json_path)\n",
    "\n",
    "for json_file in tqdm(json_files, desc=\"Processing JSON files\"):\n",
    "    with open(json_file) as json_data:\n",
    "        data = json.load(json_data)\n",
    "        filename = data['imagePath']\n",
    "        h, w = data['imageHeight'], data['imageWidth']\n",
    "        \n",
    "        # 저장할 텍스트 파일 경로\n",
    "        save_anno = os.path.join(save_path, os.path.splitext(os.path.basename(filename))[0] + \".txt\")\n",
    "        \n",
    "        keypoint_data = {label: (0,0,0) for label in label_sequence}\n",
    "        cx, cy, width, height = 0, 0, 0, 0\n",
    "        \n",
    "        for shape in data['shapes']:\n",
    "            label = shape['label']\n",
    "            if label == 'side' or label == 'dog' or label == 'tooth':\n",
    "                x1, y1 = shape['points'][0]\n",
    "                x2, y2 = shape['points'][1]\n",
    "                width = (x2-x1) / w\n",
    "                height = (y2-y1) / h\n",
    "                cx = (x1+(x2-x1)/2)/w\n",
    "                cy = (y1+(y2-y1)/2)/h\n",
    "            elif label in label_sequence:            \n",
    "                x, y = shape['points'][0]\n",
    "                x1 = x / w\n",
    "                y1 = y / h\n",
    "                category = shape.get('group_id', 2)  # group_id가 없으면 기본값 2 사용\n",
    "                keypoint_data[label] = (x1, y1, category)\n",
    "        \n",
    "        yolo_annotation_line = f\"0 {cx:.6f} {cy:.6f} {width:.6f} {height:.6f}\"\n",
    "        for label in label_sequence:\n",
    "            x, y, visible = keypoint_data[label]\n",
    "            yolo_annotation_line += f\" {x:.6f} {y:.6f} {visible}\"\n",
    "        \n",
    "        with open(save_anno, 'w') as f:\n",
    "            f.write(yolo_annotation_line + \"\\n\")\n",
    "\n",
    "print(\"처리가 완료되었습니다.\")"
   ]
  },
  {
   "cell_type": "code",
   "execution_count": null,
   "id": "9a68be7e-7631-4ab9-8d50-77846fc26149",
   "metadata": {},
   "outputs": [],
   "source": []
  }
 ],
 "metadata": {
  "kernelspec": {
   "display_name": "Python 3 (ipykernel)",
   "language": "python",
   "name": "python3"
  },
  "language_info": {
   "codemirror_mode": {
    "name": "ipython",
    "version": 3
   },
   "file_extension": ".py",
   "mimetype": "text/x-python",
   "name": "python",
   "nbconvert_exporter": "python",
   "pygments_lexer": "ipython3",
   "version": "3.10.14"
  }
 },
 "nbformat": 4,
 "nbformat_minor": 5
}
