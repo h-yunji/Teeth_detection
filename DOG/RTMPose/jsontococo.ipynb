{
 "cells": [
  {
   "cell_type": "code",
   "execution_count": 1,
   "id": "7e56ded9-ae9b-4acd-9019-bb22f932638b",
   "metadata": {},
   "outputs": [],
   "source": [
    "from tqdm import tqdm"
   ]
  },
  {
   "cell_type": "code",
   "execution_count": 2,
   "id": "e5147463-4337-4ab3-87fe-2dcacbd5ecae",
   "metadata": {},
   "outputs": [
    {
     "name": "stdout",
     "output_type": "stream",
     "text": [
      "COCO dataset saved to /RnD/mmpose/dog_mmpose/animal_train.json\n"
     ]
    }
   ],
   "source": [
    "import json\n",
    "import glob\n",
    "import os\n",
    "\n",
    "base_path = \"/RnD/mmpose/dog_mmpose/train/\" # JSON 파일들이 있는 디렉토리 경로\n",
    "save_path = \"/RnD/mmpose/dog_mmpose/\" # COCO dataset을 저장할 경로\n",
    "save_as = 'animal_train.json'\n",
    "output_path = os.path.join(save_path, save_as)\n",
    "img_path_sepa=\"/RnD/mmpose/dog_mmpose/train/\"\n",
    "\n",
    "# COCO 형식 정의\n",
    "coco_format = {\n",
    "    \"images\": [],\n",
    "    \"annotations\": [],\n",
    "    \"categories\": [\n",
    "        {\n",
    "            \"id\": 1,\n",
    "            \"name\": \"dog\",\n",
    "            \"supercategory\": \"none\",\n",
    "            \"keypoints\":[\"U1\",\"U2\",\"U3\",\"U4\",\"U5\",\"U6\",\"U7\",\"U8\",\"D1\",\"D2\",\"D3\",\"D4\",\"D5\",\"D6\",\"D7\",\"D8\",\"D9\"]\n",
    ",\n",
    "            \"skeleton\": [[0,1], [1,2], [2,3], [3,4], [4,5], [5,6], [6,7], [8,9], [9,10], [10,11], [11,12], [12,13], [13,14], [14,15], [15,16]]\n",
    "        \n",
    "        }\n",
    "    ]\n",
    "}\n",
    "\n",
    "# JSON 파일들을 가져옴\n",
    "json_files = glob.glob(os.path.join(base_path, \"*.json\"))\n",
    "\n",
    "annotation_id = 0\n",
    "\n",
    "for json_file in json_files:\n",
    "    annotation_id += 1\n",
    "    # JSON 파일 불러오기\n",
    "    with open(json_file, 'r') as f:\n",
    "        data = json.load(f)\n",
    "\n",
    "    # 이미지 정보 추가\n",
    "    image_info = {\n",
    "        \"id\": annotation_id,\n",
    "        \"width\": data['imageWidth'],\n",
    "        \"height\": data['imageHeight'],\n",
    "        \"file_name\": os.path.join(img_path_sepa,data['imagePath'])\n",
    "    }\n",
    "    coco_format[\"images\"].append(image_info)\n",
    "\n",
    "    # 어노테이션 정보 추가\n",
    "    keypoints = [0] * 51  # 17*3 (x,y,group_id)\n",
    "    bbox = [0,0,0,0]\n",
    "\n",
    "    for shape in data['shapes']:\n",
    "        if shape['shape_type'] == 'point':\n",
    "            label = shape['label']\n",
    "            point = shape['points'][0]\n",
    "            if shape['group_id'] == None:\n",
    "                shape['group_id'] = 2\n",
    "            visibility = 2 if shape['group_id'] is None else int(shape['group_id'])\n",
    "            idx = coco_format[\"categories\"][0][\"keypoints\"].index(label) * 3\n",
    "            keypoints[idx:idx + 3] = [point[0], point[1], visibility]\n",
    "        elif shape['shape_type'] == 'rectangle':\n",
    "            x1, y1 = shape['points'][0]\n",
    "            x2, y2 = shape['points'][1]\n",
    "            bbox = [x1, y1, x2 - x1, y2 - y1]  # x1,y1,w,h로 설정\n",
    "\n",
    "    annotation = {\n",
    "        \"id\": annotation_id,\n",
    "        \"image_id\": annotation_id,\n",
    "        \"category_id\": 1,\n",
    "        \"area\": bbox[2] * bbox[3],\n",
    "        \"bbox\": bbox,\n",
    "        \"iscrowd\": 0,\n",
    "        \"keypoints\": keypoints,\n",
    "        \"num_keypoints\": 17\n",
    "    }\n",
    "\n",
    "    coco_format[\"annotations\"].append(annotation)\n",
    "\n",
    "# 변환된 데이터 저장\n",
    "with open(output_path, 'w') as f:\n",
    "    json.dump(coco_format, f, indent=4)\n",
    "\n",
    "print(f\"COCO dataset saved to {output_path}\")"
   ]
  },
  {
   "cell_type": "code",
   "execution_count": 26,
   "id": "1d7fcd1b-444d-4970-9884-b0d6a6301e21",
   "metadata": {},
   "outputs": [],
   "source": [
    "shape['group_id']"
   ]
  },
  {
   "cell_type": "code",
   "execution_count": 9,
   "id": "af24b264-316b-4aee-8ec1-2cca60388c1b",
   "metadata": {},
   "outputs": [
    {
     "data": {
      "text/plain": [
       "'TRIGHT_000509_012xxxxxxxxxxxx_N_0.png'"
      ]
     },
     "execution_count": 9,
     "metadata": {},
     "output_type": "execute_result"
    }
   ],
   "source": [
    "data['imagePath']"
   ]
  },
  {
   "cell_type": "code",
   "execution_count": 4,
   "id": "1977bb4e-7db3-448b-9568-fed931b6be72",
   "metadata": {},
   "outputs": [
    {
     "name": "stdout",
     "output_type": "stream",
     "text": [
      "COCO dataset saved to /RnD/data/animalpose/animal_val.json\n"
     ]
    }
   ],
   "source": [
    "import json\n",
    "import glob\n",
    "import os\n",
    "\n",
    "base_path = \"/RnD/data/animalpose/val\" # JSON 파일들이 있는 디렉토리 경로\n",
    "save_path = \"/RnD/data/animalpose/\" # COCO dataset을 저장할 경로\n",
    "save_as = 'animal_val.json'\n",
    "output_path = os.path.join(save_path, save_as)\n",
    "img_path_sepa=\"/RnD/data/animalpose/val/\"\n",
    "\n",
    "# COCO 형식 정의\n",
    "coco_format = {\n",
    "    \"images\": [],\n",
    "    \"annotations\": [],\n",
    "    \"categories\": [\n",
    "        {\n",
    "            \"id\": 1,\n",
    "            \"name\": \"tooth_side\",\n",
    "            \"supercategory\": \"none\",\n",
    "            \"keypoints\": [\"U4\", \"U6\", \"U7\", \"U8\", \"D4\", \"D7\", \"D8\", \"D9\"],\n",
    "            \"skeleton\": [[0,1],[1,2],[2,3],[3,4],[4,5],[5,6],[6,7]]\n",
    "        }\n",
    "    ]\n",
    "}\n",
    "\n",
    "# JSON 파일들을 가져옴\n",
    "json_files = glob.glob(os.path.join(base_path, \"*.json\"))\n",
    "\n",
    "annotation_id = 0\n",
    "\n",
    "for json_file in json_files:\n",
    "    annotation_id += 1\n",
    "    # JSON 파일 불러오기\n",
    "    with open(json_file, 'r') as f:\n",
    "        data = json.load(f)\n",
    "\n",
    "    # 이미지 정보 추가\n",
    "    image_info = {\n",
    "        \"id\": annotation_id,\n",
    "        \"width\": data['imageWidth'],\n",
    "        \"height\": data['imageHeight'],\n",
    "        \"file_name\": os.path.join(img_path_sepa,data['imagePath'])\n",
    "    }\n",
    "    coco_format[\"images\"].append(image_info)\n",
    "\n",
    "    # 어노테이션 정보 추가\n",
    "    keypoints = [0] * 24  # 17*3 (x,y,group_id)\n",
    "    bbox = [0,0,0,0]\n",
    "\n",
    "    for shape in data['shapes']:\n",
    "        if shape['shape_type'] == 'point':\n",
    "            label = shape['label']\n",
    "            point = shape['points'][0]\n",
    "            idx = coco_format[\"categories\"][0][\"keypoints\"].index(label) * 3\n",
    "            keypoints[idx:idx + 3] = [point[0], point[1], 2]\n",
    "        elif shape['shape_type'] == 'rectangle':\n",
    "            x1, y1 = shape['points'][0]\n",
    "            x2, y2 = shape['points'][1]\n",
    "            bbox = [x1, y1, x2 - x1, y2 - y1]  # x1,y1,w,h로 설정\n",
    "\n",
    "    annotation = {\n",
    "        \"id\": annotation_id,\n",
    "        \"image_id\": annotation_id,\n",
    "        \"category_id\": 1,\n",
    "        \"area\": bbox[2] * bbox[3],\n",
    "        \"bbox\": bbox,\n",
    "        \"iscrowd\": 0,\n",
    "        \"keypoints\": keypoints,\n",
    "        \"num_keypoints\": 8\n",
    "    }\n",
    "\n",
    "    coco_format[\"annotations\"].append(annotation)\n",
    "\n",
    "# 변환된 데이터 저장\n",
    "with open(output_path, 'w') as f:\n",
    "    json.dump(coco_format, f, indent=4)\n",
    "\n",
    "print(f\"COCO dataset saved to {output_path}\")"
   ]
  },
  {
   "cell_type": "code",
   "execution_count": null,
   "id": "057dd78d-4954-4745-8f31-7458c615f403",
   "metadata": {},
   "outputs": [],
   "source": []
  }
 ],
 "metadata": {
  "kernelspec": {
   "display_name": "Python 3 (ipykernel)",
   "language": "python",
   "name": "python3"
  },
  "language_info": {
   "codemirror_mode": {
    "name": "ipython",
    "version": 3
   },
   "file_extension": ".py",
   "mimetype": "text/x-python",
   "name": "python",
   "nbconvert_exporter": "python",
   "pygments_lexer": "ipython3",
   "version": "3.10.14"
  }
 },
 "nbformat": 4,
 "nbformat_minor": 5
}
